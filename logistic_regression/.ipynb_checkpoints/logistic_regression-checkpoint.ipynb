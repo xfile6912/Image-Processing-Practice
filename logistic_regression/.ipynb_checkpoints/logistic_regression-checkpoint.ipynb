{
 "cells": [
  {
   "cell_type": "code",
   "execution_count": 1,
   "metadata": {},
   "outputs": [
    {
     "name": "stdout",
     "output_type": "stream",
     "text": [
      "WARNING:tensorflow:From /opt/anaconda3/lib/python3.8/site-packages/tensorflow/python/compat/v2_compat.py:101: disable_resource_variables (from tensorflow.python.ops.variable_scope) is deprecated and will be removed in a future version.\n",
      "Instructions for updating:\n",
      "non-resource variables are not supported in the long term\n",
      "PACKAGE LOADED\n"
     ]
    }
   ],
   "source": [
    "import numpy as np\n",
    "import tensorflow.compat.v1 as tf\n",
    "import matplotlib.pyplot as plt\n",
    "from tensorflow.keras.utils import to_categorical\n",
    "tf.disable_v2_behavior()\n",
    "print(\"PACKAGE LOADED\")"
   ]
  },
  {
   "cell_type": "code",
   "execution_count": 2,
   "metadata": {},
   "outputs": [],
   "source": [
    "(train_validation_images, train_validation_labels), (test_images, test_labels)=tf.keras.datasets.mnist.load_data()\n",
    "train_images=train_validation_images[0:55000,:]\n",
    "train_labels=train_validation_labels[0:55000]\n",
    "validation_images=train_validation_images[55000:,:]\n",
    "validation_labels=train_validation_labels[55000:]"
   ]
  },
  {
   "cell_type": "code",
   "execution_count": 3,
   "metadata": {},
   "outputs": [],
   "source": [
    "def normalize_dimension(images, labels):\n",
    "    ret_images=[];\n",
    "    for image in images:#전체 이미지들을 순회하며 하나의 이미지를 골라 1차원 row vector로 바꾸어줌\n",
    "        ret_images.append(np.reshape(image, (1,- 1))[0, :])\n",
    "    ret_labels=to_categorical(labels)\n",
    "    \n",
    "    return np.array(ret_images).astype(np.float32), np.array(ret_labels).astype(np.float32)"
   ]
  },
  {
   "cell_type": "code",
   "execution_count": 4,
   "metadata": {},
   "outputs": [],
   "source": [
    "norm_train_images, norm_train_labels=normalize_dimension(train_images, train_labels);\n",
    "norm_validation_images, norm_validation_labels=normalize_dimension(validation_images, validation_labels)\n",
    "norm_test_images, norm_test_labels = normalize_dimension(test_images, test_labels)"
   ]
  },
  {
   "cell_type": "code",
   "execution_count": 5,
   "metadata": {
    "scrolled": true
   },
   "outputs": [],
   "source": [
    "x = tf.placeholder(\"float\", [None, 784])\n",
    "y = tf.placeholder(\"float\", [None, 10])\n",
    "W = tf.Variable(tf.zeros([784, 10]))\n",
    "b = tf.Variable(tf.zeros([10]))\n",
    "#LOGISTIC REGRESSION MODEL\n",
    "actv=tf.nn.softmax(tf.matmul(x, W)+b);\n",
    "#COST FUNCTION\n",
    "cost=tf.reduce_mean(-tf.reduce_sum(y*tf.log(actv), reduction_indices=1))\n",
    "#OPTIMIZER\n",
    "learning_rate=0.01\n",
    "optm = tf.train.GradientDescentOptimizer(learning_rate).minimize(cost);"
   ]
  },
  {
   "cell_type": "code",
   "execution_count": 6,
   "metadata": {},
   "outputs": [
    {
     "name": "stdout",
     "output_type": "stream",
     "text": [
      "WARNING:tensorflow:From /opt/anaconda3/lib/python3.8/site-packages/tensorflow/python/util/tf_should_use.py:247: initialize_all_variables (from tensorflow.python.ops.variables) is deprecated and will be removed after 2017-03-02.\n",
      "Instructions for updating:\n",
      "Use `tf.global_variables_initializer` instead.\n"
     ]
    }
   ],
   "source": [
    "#PREDICTION\n",
    "pred=tf.equal(tf.argmax(actv, 1), tf.argmax(y, 1))\n",
    "#ACCURACY\n",
    "accr=tf.reduce_mean(tf.cast(pred, \"float\"))\n",
    "#INITIALIZER\n",
    "init=tf.initialize_all_variables()"
   ]
  },
  {
   "cell_type": "code",
   "execution_count": 7,
   "metadata": {},
   "outputs": [
    {
     "name": "stdout",
     "output_type": "stream",
     "text": [
      "EPOCH: 000/050 cost: nan train_acc: 0.130 test_acc= 0.098\n",
      "EPOCH: 005/050 cost: nan train_acc: 0.130 test_acc= 0.098\n",
      "EPOCH: 010/050 cost: nan train_acc: 0.130 test_acc= 0.098\n",
      "EPOCH: 015/050 cost: nan train_acc: 0.130 test_acc= 0.098\n",
      "EPOCH: 020/050 cost: nan train_acc: 0.130 test_acc= 0.098\n",
      "EPOCH: 025/050 cost: nan train_acc: 0.130 test_acc= 0.098\n",
      "EPOCH: 030/050 cost: nan train_acc: 0.130 test_acc= 0.098\n",
      "EPOCH: 035/050 cost: nan train_acc: 0.130 test_acc= 0.098\n",
      "EPOCH: 040/050 cost: nan train_acc: 0.130 test_acc= 0.098\n",
      "EPOCH: 045/050 cost: nan train_acc: 0.130 test_acc= 0.098\n",
      "DONE\n"
     ]
    }
   ],
   "source": [
    "training_epochs=50\n",
    "batch_size=100\n",
    "display_step=5\n",
    "\n",
    "#SESSION\n",
    "sess=tf.Session()\n",
    "sess.run(init)\n",
    "#MINI-BATCH LEARNING\n",
    "for epoch in range(training_epochs):\n",
    "    avg_cost=0;\n",
    "    num_batch= int(55000/batch_size)\n",
    "    for i in range(num_batch):\n",
    "        batch_xs = norm_train_images[batch_size*i:batch_size*(i+1)];\n",
    "        batch_ys = norm_train_labels[batch_size*i:batch_size*(i+1)];\n",
    "        sess.run(optm, feed_dict={x: batch_xs, y:batch_ys})\n",
    "        feeds={x:batch_xs, y:batch_ys}\n",
    "        avg_cost +=sess.run(cost, feed_dict=feeds)/num_batch\n",
    "        \n",
    "    #DISPLAY\n",
    "    if epoch % display_step==0:\n",
    "        feeds_train = {x: batch_xs, y: batch_ys};\n",
    "        feeds_test = {x: norm_test_images, y: norm_test_labels}\n",
    "        train_acc=sess.run(accr, feed_dict=feeds_train)\n",
    "        test_acc = sess.run(accr, feed_dict=feeds_test)\n",
    "        print(\"EPOCH: %03d/%03d cost: %.9f train_acc: %.3f test_acc= %.3f\"  % (epoch, training_epochs, avg_cost, train_acc, test_acc))\n",
    "\n",
    "print(\"DONE\");"
   ]
  },
  {
   "cell_type": "code",
   "execution_count": null,
   "metadata": {},
   "outputs": [],
   "source": []
  }
 ],
 "metadata": {
  "kernelspec": {
   "display_name": "Python 3",
   "language": "python",
   "name": "python3"
  },
  "language_info": {
   "codemirror_mode": {
    "name": "ipython",
    "version": 3
   },
   "file_extension": ".py",
   "mimetype": "text/x-python",
   "name": "python",
   "nbconvert_exporter": "python",
   "pygments_lexer": "ipython3",
   "version": "3.8.5"
  }
 },
 "nbformat": 4,
 "nbformat_minor": 4
}
