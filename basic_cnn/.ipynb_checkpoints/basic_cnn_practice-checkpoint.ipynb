{
 "cells": [
  {
   "cell_type": "code",
   "execution_count": 1,
   "id": "b6318705",
   "metadata": {},
   "outputs": [
    {
     "name": "stdout",
     "output_type": "stream",
     "text": [
      "PACKAGE LOADED\n"
     ]
    }
   ],
   "source": [
    "import numpy as np\n",
    "import tensorflow as tf\n",
    "import matplotlib.pyplot as plt\n",
    "from tensorflow.examples.tutorials.mnist import input_data\n",
    "%matplotlib inline\n",
    "print(\"PACKAGE LOADED\")"
   ]
  },
  {
   "cell_type": "markdown",
   "id": "068a1475",
   "metadata": {},
   "source": [
    "## LOAD MNIST"
   ]
  },
  {
   "cell_type": "code",
   "execution_count": 2,
   "id": "e47b184b",
   "metadata": {},
   "outputs": [
    {
     "name": "stdout",
     "output_type": "stream",
     "text": [
      "WARNING:tensorflow:From <ipython-input-2-b4842a59efa7>:1: read_data_sets (from tensorflow.contrib.learn.python.learn.datasets.mnist) is deprecated and will be removed in a future version.\n",
      "Instructions for updating:\n",
      "Please use alternatives such as official/mnist/dataset.py from tensorflow/models.\n",
      "WARNING:tensorflow:From /opt/anaconda3/lib/python3.6/site-packages/tensorflow_core/contrib/learn/python/learn/datasets/mnist.py:260: maybe_download (from tensorflow.contrib.learn.python.learn.datasets.base) is deprecated and will be removed in a future version.\n",
      "Instructions for updating:\n",
      "Please write your own downloading logic.\n",
      "WARNING:tensorflow:From /opt/anaconda3/lib/python3.6/site-packages/tensorflow_core/contrib/learn/python/learn/datasets/mnist.py:262: extract_images (from tensorflow.contrib.learn.python.learn.datasets.mnist) is deprecated and will be removed in a future version.\n",
      "Instructions for updating:\n",
      "Please use tf.data to implement this functionality.\n",
      "Extracting data/train-images-idx3-ubyte.gz\n",
      "WARNING:tensorflow:From /opt/anaconda3/lib/python3.6/site-packages/tensorflow_core/contrib/learn/python/learn/datasets/mnist.py:267: extract_labels (from tensorflow.contrib.learn.python.learn.datasets.mnist) is deprecated and will be removed in a future version.\n",
      "Instructions for updating:\n",
      "Please use tf.data to implement this functionality.\n",
      "Extracting data/train-labels-idx1-ubyte.gz\n",
      "WARNING:tensorflow:From /opt/anaconda3/lib/python3.6/site-packages/tensorflow_core/contrib/learn/python/learn/datasets/mnist.py:110: dense_to_one_hot (from tensorflow.contrib.learn.python.learn.datasets.mnist) is deprecated and will be removed in a future version.\n",
      "Instructions for updating:\n",
      "Please use tf.one_hot on tensors.\n",
      "Extracting data/t10k-images-idx3-ubyte.gz\n",
      "Extracting data/t10k-labels-idx1-ubyte.gz\n",
      "WARNING:tensorflow:From /opt/anaconda3/lib/python3.6/site-packages/tensorflow_core/contrib/learn/python/learn/datasets/mnist.py:290: DataSet.__init__ (from tensorflow.contrib.learn.python.learn.datasets.mnist) is deprecated and will be removed in a future version.\n",
      "Instructions for updating:\n",
      "Please use alternatives such as official/mnist/dataset.py from tensorflow/models.\n",
      "MNIST ready\n"
     ]
    }
   ],
   "source": [
    "mnist = input_data.read_data_sets('data/', one_hot=True)\n",
    "trainimg = mnist.train.images\n",
    "trainlabel = mnist.train.labels\n",
    "testimg = mnist.test.images\n",
    "testlabel = mnist.test.labels\n",
    "print(\"MNIST ready\")"
   ]
  },
  {
   "cell_type": "markdown",
   "id": "312be159",
   "metadata": {},
   "source": [
    "## Select device to be used"
   ]
  },
  {
   "cell_type": "code",
   "execution_count": 3,
   "id": "78348ee4",
   "metadata": {},
   "outputs": [],
   "source": [
    "device_type = \"/cpu:0\""
   ]
  },
  {
   "cell_type": "markdown",
   "id": "bce2617f",
   "metadata": {},
   "source": [
    "## Define CNN"
   ]
  },
  {
   "cell_type": "code",
   "execution_count": 4,
   "id": "faea9645",
   "metadata": {},
   "outputs": [
    {
     "name": "stdout",
     "output_type": "stream",
     "text": [
      "CNN ready\n"
     ]
    }
   ],
   "source": [
    "n_input = 784\n",
    "n_output = 10\n",
    "weights = {\n",
    "    'wc1' : tf.Variable(tf.random_normal([3, 3, 1, 64], stddev=0.1)),\n",
    "    'wc2' : tf.Variable(tf.random_normal([3, 3, 64, 128], stddev=0.1)),\n",
    "    'wd1' : tf.Variable(tf.random_normal([7*7*128, n_output], stddev=0.1))\n",
    "}\n",
    "biases = {\n",
    "    'bc1' : tf.Variable(tf.random_normal([64], stddev=0.1)),\n",
    "    'bc2' : tf.Variable(tf.random_normal([128], stddev=0.1)),\n",
    "    'bd1' : tf.Variable(tf.random_normal([n_output], stddev=0.1))\n",
    "}\n",
    "\n",
    "def CNN(_input, _w, _b):\n",
    "    #reshape input\n",
    "    _input_r= tf.reshape(_input, shape=[-1, 28, 28, 1])\n",
    "    #convolution\n",
    "    _conv1 = tf.nn.conv2d(_input_r, _w['wc1'], strides=[1, 1, 1, 1], padding='SAME')\n",
    "    #add-bias\n",
    "    _conv2 = tf.nn.bias_add(_conv1, _b['bc1'])\n",
    "    #pass-relu\n",
    "    _conv3 = tf.nn.relu(_conv2)\n",
    "    #max pooling\n",
    "    _pool = tf.nn.max_pool(_conv3, ksize=[1, 2, 2, 1], strides=[1, 2, 2, 1], padding='SAME')\n",
    "    \n",
    "    #2nd convolution\n",
    "    _temp = tf.nn.conv2d(_pool, _w['wc2'], strides=[1, 1, 1, 1], padding='SAME')\n",
    "    _temp = tf.nn.bias_add(_temp, _b['bc2'])\n",
    "    _temp = tf.nn.relu(_temp)\n",
    "    _temp = tf.nn.max_pool(_temp, ksize=[1, 2, 2, 1], strides=[1, 2, 2, 1], padding='SAME')\n",
    "    \n",
    "    \n",
    "    \n",
    "    #Vectorize\n",
    "    _dense = tf.reshape(_temp, [-1, _w['wd1'].get_shape().as_list()[0]])\n",
    "    #fully ocnnected layer\n",
    "    _out = tf.add(tf.matmul(_dense, _w['wd1']), _b['bd1'])\n",
    "    #return\n",
    "    out = {'input_r': _input_r, 'conv1': _conv1, 'conv2':_conv2, 'conv3':_conv3,\n",
    "           'pool': _pool, 'dense':_dense, 'out': _out}\n",
    "    return out;\n",
    "\n",
    "print(\"CNN ready\")"
   ]
  },
  {
   "cell_type": "markdown",
   "id": "df5719d1",
   "metadata": {},
   "source": [
    "## Define Computational Graph"
   ]
  },
  {
   "cell_type": "code",
   "execution_count": 5,
   "id": "9b3ec57d",
   "metadata": {},
   "outputs": [
    {
     "name": "stdout",
     "output_type": "stream",
     "text": [
      "WARNING:tensorflow:From <ipython-input-5-076a7a626463>:13: softmax_cross_entropy_with_logits (from tensorflow.python.ops.nn_ops) is deprecated and will be removed in a future version.\n",
      "Instructions for updating:\n",
      "\n",
      "Future major versions of TensorFlow will allow gradients to flow\n",
      "into the labels input on backprop by default.\n",
      "\n",
      "See `tf.nn.softmax_cross_entropy_with_logits_v2`.\n",
      "\n",
      "Network Ready\n"
     ]
    }
   ],
   "source": [
    "# tf Graph Input\n",
    "x = tf.placeholder(tf.float32, [None, n_input])\n",
    "y = tf.placeholder(tf.float32, [None, n_output])\n",
    "\n",
    "#Parameters\n",
    "learning_rate = 0.001\n",
    "training_epochs = 5\n",
    "batch_size=100\n",
    "display_step = 1\n",
    "\n",
    "#Functions\n",
    "_pred = CNN(x, weights, biases)['out']\n",
    "cost = tf.reduce_mean(tf.nn.softmax_cross_entropy_with_logits(logits=_pred, labels=y))\n",
    "optm = tf.train.AdamOptimizer(learning_rate=learning_rate).minimize(cost)\n",
    "_corr = tf.equal(tf.argmax(_pred,1), tf.argmax(y, 1))#count corrects\n",
    "accr = tf.reduce_mean(tf.cast(_corr, tf.float32))#accuracy\n",
    "init = tf.global_variables_initializer()\n",
    "print(\"Network Ready\")"
   ]
  },
  {
   "cell_type": "markdown",
   "id": "f9271ba0",
   "metadata": {},
   "source": [
    "## Do Train"
   ]
  },
  {
   "cell_type": "code",
   "execution_count": 6,
   "id": "5f5bf0a2",
   "metadata": {},
   "outputs": [
    {
     "name": "stdout",
     "output_type": "stream",
     "text": [
      "Epoch : 001/005 cost : 0.196725766\n",
      "TRAIN ACCURACY : 0.980\n",
      "TEST ACCURACY: 0.980\n",
      "Epoch : 002/005 cost : 0.052780004\n",
      "TRAIN ACCURACY : 0.990\n",
      "TEST ACCURACY: 0.983\n",
      "Epoch : 003/005 cost : 0.035564751\n",
      "TRAIN ACCURACY : 0.980\n",
      "TEST ACCURACY: 0.986\n",
      "Epoch : 004/005 cost : 0.026977654\n",
      "TRAIN ACCURACY : 1.000\n",
      "TEST ACCURACY: 0.986\n",
      "Epoch : 005/005 cost : 0.020410314\n",
      "TRAIN ACCURACY : 0.990\n",
      "TEST ACCURACY: 0.989\n",
      "Optimization Finished\n"
     ]
    }
   ],
   "source": [
    "sess = tf.Session()\n",
    "sess.run(init)\n",
    "\n",
    "for epoch in range(training_epochs):\n",
    "    avg_cost=0\n",
    "    total_batch = int(mnist.train.num_examples/batch_size)\n",
    "    for i in range(total_batch):\n",
    "        batch_xs, batch_ys = mnist.train.next_batch(batch_size)\n",
    "        sess.run(optm, feed_dict={x: batch_xs, y:batch_ys})\n",
    "        avg_cost += sess.run(cost, feed_dict={x:batch_xs, y:batch_ys})/total_batch\n",
    "    if epoch % display_step == 0:\n",
    "        print (\"Epoch : %03d/%03d cost : %.9f\" % (epoch+1, training_epochs, avg_cost))\n",
    "        feeds = {x: batch_xs, y: batch_ys}\n",
    "        train_acc = sess.run(accr, feed_dict=feeds)\n",
    "        print (\"TRAIN ACCURACY : %.3f\" % (train_acc))\n",
    "        feeds = {x: testimg, y: testlabel}\n",
    "        test_acc = sess.run(accr, feed_dict=feeds)\n",
    "        print (\"TEST ACCURACY: %.3f\" % (test_acc))\n",
    "\n",
    "print(\"Optimization Finished\")"
   ]
  },
  {
   "cell_type": "code",
   "execution_count": null,
   "id": "63bed5b3",
   "metadata": {},
   "outputs": [],
   "source": []
  }
 ],
 "metadata": {
  "kernelspec": {
   "display_name": "Python 3",
   "language": "python",
   "name": "python3"
  },
  "language_info": {
   "codemirror_mode": {
    "name": "ipython",
    "version": 3
   },
   "file_extension": ".py",
   "mimetype": "text/x-python",
   "name": "python",
   "nbconvert_exporter": "python",
   "pygments_lexer": "ipython3",
   "version": "3.6.13"
  }
 },
 "nbformat": 4,
 "nbformat_minor": 5
}
