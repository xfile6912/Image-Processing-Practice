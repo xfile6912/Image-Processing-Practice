{
 "cells": [
  {
   "cell_type": "code",
   "execution_count": 2,
   "metadata": {},
   "outputs": [
    {
     "name": "stdout",
     "output_type": "stream",
     "text": [
      "PACKAGES LOADED\n"
     ]
    }
   ],
   "source": [
    "import numpy as np\n",
    "import tensorflow as tf\n",
    "print(\"PACKAGES LOADED\")"
   ]
  },
  {
   "cell_type": "code",
   "execution_count": 3,
   "metadata": {},
   "outputs": [
    {
     "name": "stdout",
     "output_type": "stream",
     "text": [
      "TYPE IS\n",
      " <class 'bytes'>\n",
      "VALUE IS\n",
      " b\"HELLO. IT'S ME\"\n"
     ]
    }
   ],
   "source": [
    "def print_tf(x):\n",
    "    print(\"TYPE IS\\n %s\" %(type(x)))\n",
    "    print(\"VALUE IS\\n %s\" % x)\n",
    "\n",
    "hello = tf.constant(\"HELLO. IT'S ME\")\n",
    "print_tf(hello.numpy())"
   ]
  },
  {
   "cell_type": "code",
   "execution_count": 4,
   "metadata": {},
   "outputs": [
    {
     "name": "stdout",
     "output_type": "stream",
     "text": [
      "TYPE IS\n",
      " <class 'tensorflow.python.framework.ops.EagerTensor'>\n",
      "VALUE IS\n",
      " tf.Tensor(1.5, shape=(), dtype=float32)\n",
      "TYPE IS\n",
      " <class 'tensorflow.python.framework.ops.EagerTensor'>\n",
      "VALUE IS\n",
      " tf.Tensor(2.5, shape=(), dtype=float32)\n",
      "TYPE IS\n",
      " <class 'numpy.float32'>\n",
      "VALUE IS\n",
      " 1.5\n",
      "TYPE IS\n",
      " <class 'numpy.float32'>\n",
      "VALUE IS\n",
      " 2.5\n"
     ]
    }
   ],
   "source": [
    "a=tf.constant(1.5)\n",
    "b=tf.constant(2.5)\n",
    "\n",
    "print_tf(a)\n",
    "print_tf(b)\n",
    "print_tf(a.numpy())\n",
    "print_tf(b.numpy())"
   ]
  },
  {
   "cell_type": "code",
   "execution_count": 5,
   "metadata": {},
   "outputs": [
    {
     "name": "stdout",
     "output_type": "stream",
     "text": [
      "TYPE IS\n",
      " <class 'tensorflow.python.framework.ops.EagerTensor'>\n",
      "VALUE IS\n",
      " tf.Tensor(4.0, shape=(), dtype=float32)\n",
      "TYPE IS\n",
      " <class 'numpy.float32'>\n",
      "VALUE IS\n",
      " 4.0\n"
     ]
    }
   ],
   "source": [
    "a_plus_b = tf.add(a, b)\n",
    "print_tf(a_plus_b)\n",
    "print_tf(a_plus_b.numpy())"
   ]
  },
  {
   "cell_type": "code",
   "execution_count": 8,
   "metadata": {},
   "outputs": [
    {
     "name": "stdout",
     "output_type": "stream",
     "text": [
      "TYPE IS\n",
      " <class 'tensorflow.python.framework.ops.EagerTensor'>\n",
      "VALUE IS\n",
      " tf.Tensor(3.75, shape=(), dtype=float32)\n",
      "TYPE IS\n",
      " <class 'numpy.float32'>\n",
      "VALUE IS\n",
      " 3.75\n"
     ]
    }
   ],
   "source": [
    "a_mul_b=tf.multiply(a, b);\n",
    "print_tf(a_mul_b)\n",
    "print_tf(a_mul_b.numpy())"
   ]
  },
  {
   "cell_type": "code",
   "execution_count": 14,
   "metadata": {},
   "outputs": [
    {
     "name": "stdout",
     "output_type": "stream",
     "text": [
      "TYPE IS\n",
      " <class 'tensorflow.python.ops.resource_variable_ops.ResourceVariable'>\n",
      "VALUE IS\n",
      " <tf.Variable 'Variable:0' shape=(5, 2) dtype=float32, numpy=\n",
      "array([[ 0.10631603,  0.05958499],\n",
      "       [ 0.13267592, -0.04230813],\n",
      "       [-0.10196169,  0.08641391],\n",
      "       [ 0.0229465 ,  0.11084868],\n",
      "       [-0.13997196, -0.10482349]], dtype=float32)>\n",
      "TYPE IS\n",
      " <class 'numpy.ndarray'>\n",
      "VALUE IS\n",
      " [[ 0.10631603  0.05958499]\n",
      " [ 0.13267592 -0.04230813]\n",
      " [-0.10196169  0.08641391]\n",
      " [ 0.0229465   0.11084868]\n",
      " [-0.13997196 -0.10482349]]\n"
     ]
    }
   ],
   "source": [
    "weight = tf.Variable(tf.random.normal([5, 2], stddev=0.1))\n",
    "print_tf(weight)\n",
    "print_tf(weight.numpy())"
   ]
  },
  {
   "cell_type": "code",
   "execution_count": 31,
   "metadata": {},
   "outputs": [
    {
     "name": "stdout",
     "output_type": "stream",
     "text": [
      "TYPE IS\n",
      " <class 'tensorflow.python.framework.ops.EagerTensor'>\n",
      "VALUE IS\n",
      " tf.Tensor(\n",
      "[[ 0.04315891  0.02566545]\n",
      " [ 0.0662707   0.08727598]\n",
      " [-0.03449424  0.10770884]\n",
      " [ 0.15880866  0.05846872]\n",
      " [ 0.04275899  0.08053295]\n",
      " [-0.05045326 -0.03375901]\n",
      " [ 0.06329519  0.12624145]\n",
      " [ 0.14224364  0.00183705]\n",
      " [ 0.03962988  0.05526929]\n",
      " [-0.08933797 -0.03636008]], shape=(10, 2), dtype=float32)\n",
      "TYPE IS\n",
      " <class 'numpy.ndarray'>\n",
      "VALUE IS\n",
      " [[ 0.04315891  0.02566545]\n",
      " [ 0.0662707   0.08727598]\n",
      " [-0.03449424  0.10770884]\n",
      " [ 0.15880866  0.05846872]\n",
      " [ 0.04275899  0.08053295]\n",
      " [-0.05045326 -0.03375901]\n",
      " [ 0.06329519  0.12624145]\n",
      " [ 0.14224364  0.00183705]\n",
      " [ 0.03962988  0.05526929]\n",
      " [-0.08933797 -0.03636008]]\n"
     ]
    }
   ],
   "source": [
    "def oper(x):\n",
    "    return tf.matmul(x, weight)\n",
    "\n",
    "x = np.random.rand(10, 5).astype(np.float32);\n",
    "\n",
    "print_tf(oper(x));\n",
    "print_tf(oper(x).numpy());"
   ]
  },
  {
   "cell_type": "code",
   "execution_count": null,
   "metadata": {},
   "outputs": [],
   "source": []
  }
 ],
 "metadata": {
  "kernelspec": {
   "display_name": "Python 3",
   "language": "python",
   "name": "python3"
  },
  "language_info": {
   "codemirror_mode": {
    "name": "ipython",
    "version": 3
   },
   "file_extension": ".py",
   "mimetype": "text/x-python",
   "name": "python",
   "nbconvert_exporter": "python",
   "pygments_lexer": "ipython3",
   "version": "3.8.5"
  }
 },
 "nbformat": 4,
 "nbformat_minor": 4
}
