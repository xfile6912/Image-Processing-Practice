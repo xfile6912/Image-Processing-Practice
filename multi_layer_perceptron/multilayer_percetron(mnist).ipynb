{
 "cells": [
  {
   "cell_type": "code",
   "execution_count": null,
   "id": "70d2934d",
   "metadata": {},
   "outputs": [],
   "source": [
    "import numpy as np\n",
    "import tensorflow as tf\n",
    "from tensorflow.examples.tutorials.mnist import input_data\n",
    "print(\"Current tf version is [%s]\" % (tf.__version__))\n",
    "print(\"Packages Loaded\")"
   ]
  },
  {
   "cell_type": "code",
   "execution_count": null,
   "id": "daa5fbee",
   "metadata": {},
   "outputs": [],
   "source": [
    "mnist = input_data.read_data_sets('data/', one_hot=True)"
   ]
  },
  {
   "cell_type": "code",
   "execution_count": null,
   "id": "0571fc61",
   "metadata": {},
   "outputs": [],
   "source": [
    "#NETWORK TOPOLOGIES\n",
    "num_of_layer = 4 #전체 layer의 개수(input(1) + hidden 개수(2) + output(1))\n",
    "num_of_nodes = [784, 256, 128, 10] #가장 처음 원소는 input의 node개수, 가장 마지막 원소는 output의 node 개수\n",
    "\n",
    "#INPUT AND OUTPUTS\n",
    "x = tf.placeholder(\"float\", [None, num_of_nodes[0]]);\n",
    "y = tf.placeholder(\"float\", [None, num_of_nodes[len(num_of_nodes)-1]]);\n",
    "\n",
    "#NETWORK PARAMETERS\n",
    "stddev=0.1\n",
    "weights=[]\n",
    "biases=[]\n",
    "for i in range(num_of_layer-1):\n",
    "    weights.append(tf.Variable(tf.random_normal([num_of_nodes[i], num_of_nodes[i+1]], stddev=stddev)))\n",
    "    biases.append(tf.Variable(tf.random_normal([num_of_nodes[i+1]])))\n",
    "print(\"NETWORK READY\")\n",
    "    "
   ]
  },
  {
   "cell_type": "code",
   "execution_count": null,
   "id": "75db2e3a",
   "metadata": {},
   "outputs": [],
   "source": [
    "#MODEL\n",
    "def multilayer_perceptron(_X, _weights, _biases):\n",
    "    layers=[_X]\n",
    "    for i in range(num_of_layer-1):\n",
    "        layers.append(tf.nn.sigmoid(tf.add(tf.matmul(layers[i], _weights[i]), _biases[i])))\n",
    "    return layers[len(layers)-1]\n",
    "\n",
    "#PREDICTION\n",
    "pred=multilayer_perceptron(x, weights, biases)\n",
    "\n",
    "#LOSS AND OPTIMIZER\n",
    "cost=tf.reduce_mean(tf.nn.softmax_cross_entropy_with_logits(labels=y, logits=pred))\n",
    "optm = tf.train.AdamOptimizer(learning_rate=0.001).minimize(cost)\n",
    "corr=tf.equal(tf.argmax(pred, 1), tf.argmax(y, 1))\n",
    "accr = tf.reduce_mean(tf.cast(corr, \"float\"))\n",
    "\n",
    "#INITIALIZER\n",
    "init=tf.global_variables_initializer()\n",
    "print(\"FUNCTIONS READY\")"
   ]
  },
  {
   "cell_type": "code",
   "execution_count": null,
   "id": "65e30b70",
   "metadata": {},
   "outputs": [],
   "source": [
    "# PARAMETERS\n",
    "training_epochs = 20\n",
    "batch_size = 100\n",
    "display_step = 4\n",
    "# LAUNCH THE GRAPH\n",
    "sess = tf.Session()\n",
    "sess.run(init)\n",
    "#OPTIMIZE\n",
    "for epoch in range(training_epochs):\n",
    "    avg_cost = 0.\n",
    "    total_batch = int(mnist.train.num_examples/batch_size)\n",
    "    # ITERATION\n",
    "    for i in range(total_batch):\n",
    "        batch_xs, batch_ys = mnist.train.next_batch(batch_size)\n",
    "        feeds = {x: batch_xs, y:batch_ys}\n",
    "        sess.run(optm, feed_dict=feeds)\n",
    "        avg_cost += sess.run(cost, feed_dict=feeds)\n",
    "    avg_cost = avg_cost / total_batch\n",
    "    # DISPLAY\n",
    "    if (epoch+1) % display_step == 0:\n",
    "        print (\"Epoch : %03d/%03d cost : %.9f\" % (epoch+1, training_epochs, avg_cost))\n",
    "        feeds = {x: batch_xs, y: batch_ys}\n",
    "        train_acc = sess.run(accr, feed_dict=feeds)\n",
    "        print (\"TRAIN ACCURACY : %.3f\" % (train_acc))\n",
    "        feeds = {x: testimgs, y: testlabels}\n",
    "        test_acc = sess.run(accr, feed_dict=feeds)\n",
    "        print (\"TEST ACCURACY: %.3f\" % (test_acc))\n",
    "        \n",
    "print (\"OPTIMZATION FINISHED\")\n"
   ]
  },
  {
   "cell_type": "code",
   "execution_count": null,
   "id": "00bcb5a3",
   "metadata": {},
   "outputs": [],
   "source": []
  }
 ],
 "metadata": {
  "kernelspec": {
   "display_name": "Python 3",
   "language": "python",
   "name": "python3"
  },
  "language_info": {
   "codemirror_mode": {
    "name": "ipython",
    "version": 3
   },
   "file_extension": ".py",
   "mimetype": "text/x-python",
   "name": "python",
   "nbconvert_exporter": "python",
   "pygments_lexer": "ipython3",
   "version": "3.6.13"
  }
 },
 "nbformat": 4,
 "nbformat_minor": 5
}
